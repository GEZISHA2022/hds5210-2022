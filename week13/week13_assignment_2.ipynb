{
 "cells": [
  {
   "cell_type": "markdown",
   "metadata": {
    "nbgrader": {
     "grade": false,
     "grade_id": "cell-fc1c39d0d6f8b82a",
     "locked": true,
     "schema_version": 1,
     "solution": false
    }
   },
   "source": [
    "# Week 13 Programming Assignment\n",
    "\n",
    "As you're working on identifying data for your final project, it's helpful to spend some time exploring your various data files.  For this week's assignment, I'd like you to take a few of the ideas from the the lectures, review assignment, and tonight's lecture to start exploring the data you plan to use for the final project.\n",
    "\n",
    "For the following activities, you can use just one of the data files that you've identified, or you can do the activities using different data files.  That's up to you.  Please describe what you're doing in a Markdown cell or in the comments of your code.  When you've completed the assignment, submit it as normal."
   ]
  },
  {
   "cell_type": "markdown",
   "metadata": {},
   "source": [
    "### 1. Basic Statistics\n",
    "\n",
    "Use Python to read in your data file and show many rows and columns your data has."
   ]
  },
  {
   "cell_type": "code",
   "execution_count": 11,
   "metadata": {},
   "outputs": [
    {
     "name": "stdout",
     "output_type": "stream",
     "text": [
      "4845 rows, 20 columns\n"
     ]
    }
   ],
   "source": [
    "import pandas as pd\n",
    "hcahps = pd.read_csv('HCAHPS-Hospital.csv',na_values='Not Available')\n",
    "\n",
    "hcahps_scores = hcahps[hcahps['HCAHPS Answer Description'].str[-17:]=='linear mean score']\n",
    "\n",
    "\n",
    "index_list= ['Facility ID', 'Facility Name', 'Address', 'City','State','ZIP Code', 'Number of Completed Surveys', 'Survey Response Rate Percent', 'Start Date', 'End Date']\n",
    "hcahps_scores_wide = hcahps_scores.pivot(index=index_list, columns='HCAHPS Question', values='HCAHPS Linear Mean Value')\n",
    "hcahps_scores_all = hcahps_scores_wide.reset_index()\n",
    "\n",
    "\n",
    "column_list = hcahps_scores_all.columns\n",
    "for col in column_list:\n",
    "    if col[-5:] == 'score':\n",
    "        hcahps_scores_all[col] = pd.to_numeric(hcahps_scores_all[col])\n",
    "\n",
    "# number of rows and columns\n",
    "print('{} rows, {} columns'.format(hcahps_scores_all.shape[0], hcahps_scores_all.shape[1]))"
   ]
  },
  {
   "cell_type": "markdown",
   "metadata": {},
   "source": [
    "### 2. Data Diversity\n",
    "\n",
    "Use Python to identify how many unique values each column in your data has.  Use Python to identify which column has the greatest number of distinct values (aka the most diversity)?  If your data has a unique identifier (e.g. a person or visit or record ID) then find the column with the next most number of unique values."
   ]
  },
  {
   "cell_type": "code",
   "execution_count": 12,
   "metadata": {},
   "outputs": [
    {
     "name": "stdout",
     "output_type": "stream",
     "text": [
      "The column with most disversity: Facility ID\n"
     ]
    },
    {
     "data": {
      "text/plain": [
       "{'Facility ID': 4845,\n",
       " 'Facility Name': 4705,\n",
       " 'Address': 4813,\n",
       " 'City': 2956,\n",
       " 'State': 56,\n",
       " 'ZIP Code': 4435,\n",
       " 'Number of Completed Surveys': 1371,\n",
       " 'Survey Response Rate Percent': 63,\n",
       " 'Start Date': 1,\n",
       " 'End Date': 1,\n",
       " 'Care transition - linear mean score': 28,\n",
       " 'Cleanliness - linear mean score': 31,\n",
       " 'Communication about medicines - linear mean score': 38,\n",
       " 'Discharge information - linear mean score': 38,\n",
       " 'Doctor communication - linear mean score': 28,\n",
       " 'Nurse communication - linear mean score': 26,\n",
       " 'Overall hospital rating - linear mean score': 31,\n",
       " 'Quietness - linear mean score': 38,\n",
       " 'Recommend hospital - linear mean score': 37,\n",
       " 'Staff responsiveness - linear mean score': 40}"
      ]
     },
     "execution_count": 12,
     "metadata": {},
     "output_type": "execute_result"
    }
   ],
   "source": [
    "unique_values = {}\n",
    "for col in column_list:\n",
    "    count = len(hcahps_scores_all[col].unique())\n",
    "    unique_values[col] = count\n",
    "    \n",
    "print('The column with most disversity: {}'.format(max(unique_values, key=lambda key: unique_values[key])))\n",
    "unique_values"
   ]
  },
  {
   "cell_type": "markdown",
   "metadata": {},
   "source": [
    "### 3. Data Redundancy\n",
    "\n",
    "Use Python to identify any columns in your data where the value for every row is the same.  For example, if you had a gender column and all the rows said 'M', then you would want to write the code that helped you determine that."
   ]
  },
  {
   "cell_type": "code",
   "execution_count": 13,
   "metadata": {},
   "outputs": [
    {
     "name": "stdout",
     "output_type": "stream",
     "text": [
      "The column 'Start Date' has same value for all rows\n",
      "The column 'End Date' has same value for all rows\n"
     ]
    }
   ],
   "source": [
    "for col in column_list:\n",
    "    if unique_values[col] == 1:\n",
    "        print(\"The column '{}' has same value for all rows\".format(col))"
   ]
  },
  {
   "cell_type": "markdown",
   "metadata": {},
   "source": [
    "### 4. Range of Values\n",
    "\n",
    "Your data almost certainly has some numeric columns that can be summed or averaged.  Create a histogram that shows the distribution of values for this column."
   ]
  },
  {
   "cell_type": "code",
   "execution_count": 14,
   "metadata": {},
   "outputs": [
    {
     "data": {
      "text/plain": [
       "count    3291.000000\n",
       "mean       87.453358\n",
       "std         3.826384\n",
       "min        55.000000\n",
       "25%        85.000000\n",
       "50%        88.000000\n",
       "75%        90.000000\n",
       "max        97.000000\n",
       "Name: Overall hospital rating - linear mean score, dtype: float64"
      ]
     },
     "execution_count": 14,
     "metadata": {},
     "output_type": "execute_result"
    },
    {
     "data": {
      "image/png": "[encoded data removed]",
      "text/plain": [
       "<Figure size 432x288 with 1 Axes>"
      ]
     },
     "metadata": {
      "needs_background": "light"
     },
     "output_type": "display_data"
    }
   ],
   "source": [
    "import matplotlib.pyplot as plt\n",
    "hcahps_scores_all['Overall hospital rating - linear mean score'].hist(bins=30, density=True, alpha=0.7)\n",
    "hcahps_scores_all['Overall hospital rating - linear mean score'].describe()"
   ]
  },
  {
   "cell_type": "markdown",
   "metadata": {},
   "source": [
    "### 5. Discussion\n",
    "\n",
    "Do any additional exploration of this data that you think may be interesting and include your code here.  Then go onto Slack and make a post about what you've observed.  Share your observation.  Share your code, if you like.  Share a screenshot of the data or a chart based on the data.\n",
    "\n",
    "Then comment on at least two other people's observations that they share on Slack.  (Use the reply as thread option in Slack to keep the conversation organized.)"
   ]
  },
  {
   "cell_type": "code",
   "execution_count": 15,
   "metadata": {},
   "outputs": [
    {
     "data": {
      "text/html": [
       "<div>\n",
       "<style scoped>\n",
       "    .dataframe tbody tr th:only-of-type {\n",
       "        vertical-align: middle;\n",
       "    }\n",
       "\n",
       "    .dataframe tbody tr th {\n",
       "        vertical-align: top;\n",
       "    }\n",
       "\n",
       "    .dataframe thead th {\n",
       "        text-align: right;\n",
       "    }\n",
       "</style>\n",
       "<table border=\"1\" class=\"dataframe\">\n",
       "  <thead>\n",
       "    <tr style=\"text-align: right;\">\n",
       "      <th></th>\n",
       "      <th>count</th>\n",
       "      <th>mean</th>\n",
       "      <th>std</th>\n",
       "      <th>min</th>\n",
       "      <th>25%</th>\n",
       "      <th>50%</th>\n",
       "      <th>75%</th>\n",
       "      <th>max</th>\n",
       "    </tr>\n",
       "    <tr>\n",
       "      <th>State</th>\n",
       "      <th></th>\n",
       "      <th></th>\n",
       "      <th></th>\n",
       "      <th></th>\n",
       "      <th></th>\n",
       "      <th></th>\n",
       "      <th></th>\n",
       "      <th></th>\n",
       "    </tr>\n",
       "  </thead>\n",
       "  <tbody>\n",
       "    <tr>\n",
       "      <th>CA</th>\n",
       "      <td>294.0</td>\n",
       "      <td>86.500000</td>\n",
       "      <td>4.168589</td>\n",
       "      <td>69.0</td>\n",
       "      <td>84.0</td>\n",
       "      <td>87.0</td>\n",
       "      <td>89.0</td>\n",
       "      <td>95.0</td>\n",
       "    </tr>\n",
       "    <tr>\n",
       "      <th>NY</th>\n",
       "      <td>139.0</td>\n",
       "      <td>84.597122</td>\n",
       "      <td>3.911557</td>\n",
       "      <td>73.0</td>\n",
       "      <td>83.0</td>\n",
       "      <td>85.0</td>\n",
       "      <td>87.0</td>\n",
       "      <td>94.0</td>\n",
       "    </tr>\n",
       "    <tr>\n",
       "      <th>TX</th>\n",
       "      <td>248.0</td>\n",
       "      <td>87.903226</td>\n",
       "      <td>3.819658</td>\n",
       "      <td>75.0</td>\n",
       "      <td>86.0</td>\n",
       "      <td>88.0</td>\n",
       "      <td>90.0</td>\n",
       "      <td>97.0</td>\n",
       "    </tr>\n",
       "  </tbody>\n",
       "</table>\n",
       "</div>"
      ],
      "text/plain": [
       "       count       mean       std   min   25%   50%   75%   max\n",
       "State                                                          \n",
       "CA     294.0  86.500000  4.168589  69.0  84.0  87.0  89.0  95.0\n",
       "NY     139.0  84.597122  3.911557  73.0  83.0  85.0  87.0  94.0\n",
       "TX     248.0  87.903226  3.819658  75.0  86.0  88.0  90.0  97.0"
      ]
     },
     "execution_count": 15,
     "metadata": {},
     "output_type": "execute_result"
    },
    {
     "data": {
      "image/png": "[encoded data removed]",
      "text/plain": [
       "<Figure size 720x504 with 1 Axes>"
      ]
     },
     "metadata": {
      "needs_background": "light"
     },
     "output_type": "display_data"
    }
   ],
   "source": [
    "hcahps_scores_3states = hcahps_scores_all.loc[hcahps_scores_all['State'].isin(['CA', 'NY', 'TX'])]\n",
    "hcahps_scores_3states.groupby(['State'])['Overall hospital rating - linear mean score'].plot.kde(\n",
    "    xlim=(65,100),\n",
    "    legend=True,\n",
    "    figsize=(10,7)\n",
    ")\n",
    "plt.xlabel(\"Overall hospital rating - linear mean score\")\n",
    "plt.savefig('hcahps_scores_4states.png')\n",
    "hcahps_scores_3states.groupby(['State'])['Overall hospital rating - linear mean score'].describe()"
   ]
  },
  {
   "cell_type": "markdown",
   "metadata": {},
   "source": [
    "\n",
    "\n",
    "---\n",
    "\n",
    "\n",
    "\n",
    "## Submitting Your Work\n",
    "\n",
    "Submit your work as usual."
   ]
  },
  {
   "cell_type": "code",
   "execution_count": null,
   "metadata": {},
   "outputs": [],
   "source": []
  }
 ],
 "metadata": {
  "celltoolbar": "Create Assignment",
  "kernelspec": {
   "display_name": "Python 3",
   "language": "python",
   "name": "python3"
  },
  "language_info": {
   "codemirror_mode": {
    "name": "ipython",
    "version": 3
   },
   "file_extension": ".py",
   "mimetype": "text/x-python",
   "name": "python",
   "nbconvert_exporter": "python",
   "pygments_lexer": "ipython3",
   "version": "3.6.7"
  }
 },
 "nbformat": 4,
 "nbformat_minor": 2
}
