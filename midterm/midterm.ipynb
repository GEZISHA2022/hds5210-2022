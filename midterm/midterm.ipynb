{
 "cells": [
  {
   "cell_type": "markdown",
   "metadata": {},
   "source": [
    "# HDS5210-2022 Fall Midterm\n",
    "\n",
    "In the midterm exercise, you're going to use all the programming and data management skills you've developed so far to build a pricing calculator that will calculate how much money should be reimbursed for the visits in a CSV file. To do this, you will need to get allowed amounts (aka rates) from a JSON file, apply some special rules, and then calculate various totals by hospital or by month.\n",
    "\n",
    "Each step of the midterm will build up to form your final solution. Along the way, I've provided plenty of test cases to make sure you're getting each step correct.\n",
    "\n",
    "All functions require docstrings with a description and at least one test case.\n",
    "\n",
    "The midterm is due Monday, October 24th at 11:59 PM CST.\n",
    "\n",
    "---"
   ]
  },
  {
   "cell_type": "markdown",
   "metadata": {},
   "source": [
    "## Step 1: Average Rate\n",
    "\n",
    "With the `/data/negotiated_rates.json` file as input for your first function, read all the `allowed_amount` attributes and calculate an average allowed amount over all rates in the file.\n",
    "\n",
    "Your function should be named **average_rate()**, take the file's name as it's input parameter, and return a float as the result.\n",
    "\n",
    "**ROUND YOUR ANSWER TO 2 DECIMAL PLACES**"
   ]
  },
  {
   "cell_type": "code",
   "execution_count": 141,
   "metadata": {},
   "outputs": [],
   "source": [
    "import json\n",
    "with open('/data/negotiated_rates.json') as f:\n",
    "    data= json.load(f)\n",
    "def average_rate(file):\n",
    "    \n",
    "    totalamount = 0\n",
    "    totalcount = 0\n",
    "    for item in data[\"out_of_network\"]:\n",
    "        if \"allowed_amounts\" not in item:\n",
    "            continue\n",
    "        for allowed_amount in item[\"allowed_amounts\"]:\n",
    "            if \"payments\" not in allowed_amount:\n",
    "                continue\n",
    "            if \"allowed_amount\" not in allowed_amount[\"payments\"]:\n",
    "                continue\n",
    "            totalamount += allowed_amount[\"payments\"][\"allowed_amount\"]\n",
    "            totalcount += 1\n",
    "    if totalcount > 0:\n",
    "        return round(totalamount/totalcount, 2)\n",
    "    else:\n",
    "        return 0.00\n",
    "    "
   ]
  },
  {
   "cell_type": "code",
   "execution_count": 142,
   "metadata": {},
   "outputs": [],
   "source": [
    "assert(average_rate('/data/negotiated_rates.json') == 38.67)"
   ]
  },
  {
   "cell_type": "code",
   "execution_count": null,
   "metadata": {},
   "outputs": [],
   "source": []
  },
  {
   "cell_type": "markdown",
   "metadata": {},
   "source": [
    "---\n",
    "\n",
    "## Step 2: Rate for a Billing Code / Service Code Combination\n",
    "\n",
    "For the next step, we need to be able to look up the allowed amount for any given billing code / service code combination.\n",
    "\n",
    "In this data, the billing code represents the service or procedure that was provided. The service code represents the type of site where the service was provided.\n",
    "\n",
    "Your function should be named **get_rate()** and take three parameters: the JSON file name, the billing code, and the service code. If your code can't find that combination in the file, it should return None."
   ]
  },
  {
   "cell_type": "code",
   "execution_count": 148,
   "metadata": {},
   "outputs": [],
   "source": [
    "import json\n",
    "with open('/data/negotiated_rates.json') as f:\n",
    "    data = json.load(f)\n",
    "def get_rate(file, billing_code, service_code):    \n",
    "    amount = None\n",
    "    for item in data[\"out_of_network\"]:\n",
    "        if item[\"billing_code\"] == billing_code:\n",
    "            if \"allowed_amounts\" not in item:\n",
    "                continue\n",
    "            for allowed_amount in item[\"allowed_amounts\"]:\n",
    "                if allowed_amount[\"service_code\"] == service_code:\n",
    "                    if \"payments\" not in allowed_amount:\n",
    "                        continue\n",
    "                    if \"allowed_amount\" not in allowed_amount[\"payments\"]:\n",
    "                        continue\n",
    "                    amount = allowed_amount[\"payments\"][\"allowed_amount\"]\n",
    "                    break\n",
    "    return amount\n",
    "\n",
    "    "
   ]
  },
  {
   "cell_type": "code",
   "execution_count": 149,
   "metadata": {},
   "outputs": [],
   "source": [
    "assert (get_rate('/data/negotiated_rates.json','G0283','11') == 8.78)\n",
    "assert (get_rate('/data/negotiated_rates.json','97140','11') == 20.03)\n",
    "assert (get_rate('/data/negotiated_rates.json','97110','12') == 26.62)"
   ]
  },
  {
   "cell_type": "code",
   "execution_count": null,
   "metadata": {},
   "outputs": [],
   "source": []
  },
  {
   "cell_type": "markdown",
   "metadata": {},
   "source": [
    "---\n",
    "\n",
    "## Part 3: Special Rules for Rates\n",
    "\n",
    "There are some special rules for adjusting rates depending on a patient's age and the day of week.  (These are made up. Not from the real world.) In the next part of the midterm, you'll need to create a function that applies these extra rules to a rate and return the adjusted value.\n",
    "\n",
    "1. If the day of week is Monday, charge only 75% of the allowed amount.\n",
    "2. If the patient's age is 65 or higher, charge only 50% of the allowed amount.\n",
    "3. If's both Monday and the patient's age is 65 or higher, charge only 50% of the allowed amount.\n",
    "4. If neither of these conditions are true, charge the whole amount.\n",
    "\n",
    "Your function should be named **get_adjusted_rate()** and take five parameters: file name, billing code, service code, patient age, and visit date.  Your function should return the adjusted rate (based on the rules above) or None if the rate couldn't be found in the file.\n",
    "\n",
    "Note that your function will take a date in the form `%Y-%m-%d` ([see datetime.strptime()](https://docs.python.org/3/library/datetime.html#datetime.datetime.strptime)) and will need to calculate the [day of week](https://docs.python.org/3/library/datetime.html#datetime.date.weekday).\n",
    "\n",
    "**ROUND YOUR ANSWER TO 2 DECIMAL PLACES**"
   ]
  },
  {
   "cell_type": "code",
   "execution_count": 150,
   "metadata": {},
   "outputs": [],
   "source": [
    "from datetime import datetime\n",
    "import json\n",
    "with open('/data/negotiated_rates.json') as f:\n",
    "    data = json.load(f)\n",
    "    \n",
    "def get_adjusted_rate(file, billing_code, service_code, pat_age, visit_date):\n",
    "    \n",
    "    Amount = None\n",
    "    for item in data[\"out_of_network\"]:\n",
    "        if item[\"billing_code\"] == billing_code:\n",
    "            if \"allowed_amounts\" not in item:\n",
    "                continue\n",
    "            for allowed_amount in item[\"allowed_amounts\"]:\n",
    "                if allowed_amount[\"service_code\"] == service_code:\n",
    "                    if \"payments\" not in allowed_amount:\n",
    "                        continue\n",
    "                    if \"allowed_amount\" not in allowed_amount[\"payments\"]:\n",
    "                        continue\n",
    "                    Amount = allowed_amount[\"payments\"][\"allowed_amount\"]\n",
    "                    if pat_age >= 65:\n",
    "                        Amount*= .5\n",
    "                    elif datetime.strptime(visit_date, \"%Y-%m-%d\").weekday() == 0:\n",
    "                        Amount *= .75\n",
    "                    return round(Amount, 2)\n",
    "        return None\n",
    "    "
   ]
  },
  {
   "cell_type": "code",
   "execution_count": 151,
   "metadata": {},
   "outputs": [],
   "source": [
    "assert (get_adjusted_rate('/data/negotiated_rates.json','G0283','11',22,'2022-01-07') == 8.78)\n",
    "assert (get_adjusted_rate('/data/negotiated_rates.json','G0283','11',22,'2022-01-03') == 6.58)\n",
    "assert (get_adjusted_rate('/data/negotiated_rates.json','G0283','11',76,'2022-01-03') == 4.39)\n",
    "assert (get_adjusted_rate('/data/negotiated_rates.json','G0283','11',76,'2022-01-08') == 4.39)"
   ]
  },
  {
   "cell_type": "code",
   "execution_count": null,
   "metadata": {},
   "outputs": [],
   "source": []
  },
  {
   "cell_type": "markdown",
   "metadata": {},
   "source": [
    "---\n",
    "\n",
    "## Step 4: Calculate total payments for a list of visits\n",
    "\n",
    "Last step, we're going to put your get_adjusted_rate() function to work on a list of visits from a few hospitals in the St. Louis region.\n",
    "\n",
    "Your last function, **summarize_reimbursement()** needs to read an encounter file and the negotiated rates file, compute an adjusted rate for each encounter (row) in the input file, and return two dictionaries of information:\n",
    "1. Total expected reimbursement by month\n",
    "2. Total expected reimbursement by hospital\n",
    "\n",
    "Your should be able to run your function as `by_month, by_hospital = summarize_reimbursement(visits, negotiated_rates)` and have the two answers below:\n",
    "\n",
    "**by_month**\n",
    "```json\n",
    "{\n",
    "    '2021-05': 192.38,\n",
    "    '2021-03': 378.72,\n",
    "    '2021-07': 277.67,\n",
    "    '2021-06': 236.53,\n",
    "    '2021-11': 229.7,\n",
    "    '2021-10': 234.52,\n",
    "    '2021-12': 297.87,\n",
    "    '2021-04': 337.7,\n",
    "    '2021-09': 160.4,\n",
    "    '2021-01': 111.91,\n",
    "    '2021-02': 158.55,\n",
    "    '2021-08': 152.28\n",
    "}\n",
    "```\n",
    "\n",
    "**by_hospital**\n",
    "```json\n",
    "{\n",
    "    'Missouri Baptist': 514.18,\n",
    "    'SSM DePaul': 460.02,\n",
    "    'SLU Hospital': 409.67,\n",
    "    'Barnes Jewish': 485.7,\n",
    "    'Mercy Springfield': 518.59,\n",
    "    'Mercy St. Louis': 380.07\n",
    "}\n",
    "```\n",
    "\n",
    "**Round your totals to 2 decimal places**\n",
    "\n",
    "**If rates are not found, just ignore them**"
   ]
  },
  {
   "cell_type": "code",
   "execution_count": 155,
   "metadata": {},
   "outputs": [],
   "source": [
    "import json\n",
    "import csv\n",
    "from datetime import datetime\n",
    "with open('/data/negotiated_rates.json') as f:\n",
    "    data = json.load(f)  \n",
    "    \n",
    "def get_adjusted_rate(file, billing_code, service_code, pat_age, visit_date):\n",
    "    \n",
    "    Amount = None\n",
    "    for item in data[\"out_of_network\"]:\n",
    "        if item[\"billing_code\"] == billing_code:\n",
    "            if \"allowed_amounts\" not in item:\n",
    "                continue\n",
    "            for allowed_amount in item[\"allowed_amounts\"]:\n",
    "                if allowed_amount[\"service_code\"] == service_code:\n",
    "                    if \"payments\" not in allowed_amount:\n",
    "                        continue\n",
    "                    if \"allowed_amount\" not in allowed_amount[\"payments\"]:\n",
    "                        continue\n",
    "                \n",
    "                    Amount = allowed_amount[\"payments\"][\"allowed_amount\"]\n",
    "                    if pat_age >= 65:\n",
    "                        Amount *= .5\n",
    "                    elif datetime.strptime(visit_date, \"%Y-%m-%d\").weekday() == 0:\n",
    "                        Amount *= .75\n",
    "\n",
    "                    return round(Amount, 2)\n",
    "\n",
    "    return None\n",
    "\n",
    "def summarize_reimbursement(csv_file, json_file):\n",
    "\n",
    "    visits = open(csv_file)\n",
    "    f = csv.reader(visits)\n",
    "    fields = next(f)\n",
    "    \n",
    "    by_month = {}\n",
    "    by_hospital = {}\n",
    "    for row in f:\n",
    "        result = get_adjusted_rate(json_file, row[4], row[5], int(row[3]), row[6])\n",
    "        if result is None:\n",
    "            continue\n",
    "        \n",
    "        month = row[6][:7]\n",
    "        if month not in by_month:\n",
    "            by_month[month] = result\n",
    "        else:\n",
    "            by_month[month] += result\n",
    "        \n",
    "        if row[1] not in by_hospital:\n",
    "            by_hospital[row[1]] = result\n",
    "        else:\n",
    "            by_hospital[row[1]] += result\n",
    "        \n",
    "        # Round to 2 decimal places\n",
    "        for k, v in by_month.items():\n",
    "            by_month[k] = round(v, 2)\n",
    "        for k, v in by_hospital.items():\n",
    "            by_hospital[k] = round(v, 2)\n",
    "    \n",
    "    return [by_month, by_hospital]\n"
   ]
  },
  {
   "cell_type": "code",
   "execution_count": 127,
   "metadata": {},
   "outputs": [
    {
     "data": {
      "text/plain": [
       "[{'2021-05': 192.38,\n",
       "  '2021-03': 378.72,\n",
       "  '2021-07': 277.67,\n",
       "  '2021-06': 236.53,\n",
       "  '2021-11': 229.7,\n",
       "  '2021-10': 234.52,\n",
       "  '2021-12': 297.87,\n",
       "  '2021-04': 337.7,\n",
       "  '2021-09': 160.4,\n",
       "  '2021-01': 111.91,\n",
       "  '2021-02': 158.55,\n",
       "  '2021-08': 152.28},\n",
       " {'Missouri Baptist': 514.18,\n",
       "  'SSM DePaul': 460.02,\n",
       "  'SLU Hospital': 409.67,\n",
       "  'Barnes Jewish': 485.7,\n",
       "  'Mercy Springfield': 518.59,\n",
       "  'Mercy St. Louis': 380.07}]"
      ]
     },
     "execution_count": 127,
     "metadata": {},
     "output_type": "execute_result"
    }
   ],
   "source": [
    "summarize_reimbursement('/data/visits.csv','/data/negotiated_rates.json')"
   ]
  },
  {
   "cell_type": "code",
   "execution_count": 128,
   "metadata": {},
   "outputs": [],
   "source": [
    "assert (summarize_reimbursement('/data/visits.csv','/data/negotiated_rates.json')[0]['2021-07'] == 277.67)\n",
    "assert (summarize_reimbursement('/data/visits.csv','/data/negotiated_rates.json')[0]['2021-03'] == 378.72)\n",
    "assert (summarize_reimbursement('/data/visits.csv','/data/negotiated_rates.json')[1]['Mercy St. Louis'] == 380.07)\n",
    "assert (summarize_reimbursement('/data/visits.csv','/data/negotiated_rates.json')[1]['Mercy Springfield'] == 518.59)"
   ]
  },
  {
   "cell_type": "code",
   "execution_count": null,
   "metadata": {},
   "outputs": [],
   "source": []
  }
 ],
 "metadata": {
  "kernelspec": {
   "display_name": "Python 3",
   "language": "python",
   "name": "python3"
  },
  "language_info": {
   "codemirror_mode": {
    "name": "ipython",
    "version": 3
   },
   "file_extension": ".py",
   "mimetype": "text/x-python",
   "name": "python",
   "nbconvert_exporter": "python",
   "pygments_lexer": "ipython3",
   "version": "3.6.7"
  }
 },
 "nbformat": 4,
 "nbformat_minor": 4
}
